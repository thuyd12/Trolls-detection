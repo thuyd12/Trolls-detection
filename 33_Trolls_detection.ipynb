{
  "cells": [
    {
      "cell_type": "markdown",
      "metadata": {
        "id": "view-in-github",
        "colab_type": "text"
      },
      "source": [
        "<a href=\"https://colab.research.google.com/github/thuyd12/Trolls-detection/blob/main/33_Trolls_detection.ipynb\" target=\"_parent\"><img src=\"https://colab.research.google.com/assets/colab-badge.svg\" alt=\"Open In Colab\"/></a>"
      ]
    },
    {
      "cell_type": "markdown",
      "source": [
        " ![Emil](data:image/png;base64,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)"
      ],
      "metadata": {
        "id": "xwj-ZT_8wuLU"
      },
      "id": "xwj-ZT_8wuLU"
    },
    {
      "cell_type": "markdown",
      "id": "71d87281-c9b6-4aa9-9ce2-84cdc857bbad",
      "metadata": {
        "tags": [],
        "id": "71d87281-c9b6-4aa9-9ce2-84cdc857bbad"
      },
      "source": [
        "# Trolls detection"
      ]
    },
    {
      "cell_type": "markdown",
      "source": [
        "# Install Pycaret"
      ],
      "metadata": {
        "id": "8tLNFWwn_uc_"
      },
      "id": "8tLNFWwn_uc_"
    },
    {
      "cell_type": "markdown",
      "source": [
        "a) Execute cell below to install pycaret for future need.\n",
        "\n",
        "You will be asked to restart runtime. Please do and wait for a minute. Execute once again this cell, you should see \"requirement already satisfied\" on each row, if it's the case you are good to go.\n"
      ],
      "metadata": {
        "id": "TJ4eCfjn_7NX"
      },
      "id": "TJ4eCfjn_7NX"
    },
    {
      "cell_type": "code",
      "source": [
        "!pip install pycaret"
      ],
      "metadata": {
        "id": "hnhF4EBM_w11"
      },
      "id": "hnhF4EBM_w11",
      "execution_count": null,
      "outputs": []
    },
    {
      "cell_type": "markdown",
      "id": "f9f02a80-6b4e-4f3f-874d-1ebc730f394a",
      "metadata": {
        "id": "f9f02a80-6b4e-4f3f-874d-1ebc730f394a"
      },
      "source": [
        "## Data Discovery"
      ]
    },
    {
      "cell_type": "markdown",
      "id": "286ce41e-c4b2-4495-9961-98a2ff5610c0",
      "metadata": {
        "id": "286ce41e-c4b2-4495-9961-98a2ff5610c0"
      },
      "source": [
        "a) Download [moderation.csv](https://drive.google.com/file/d/1twNqS0rd67DhURv2dZiOyjoeRf3s4q-f/view?usp=sharing) and upload it to Colab.\n",
        "Load data into a `df` variable.\n",
        "\n",
        "What are the features and the target?"
      ]
    },
    {
      "cell_type": "code",
      "source": [
        "import pandas as pd\n",
        "\n",
        "df = pd.read_csv(\"moderation.csv\")\n",
        "df"
      ],
      "metadata": {
        "id": "vBgOu-V6n_mx"
      },
      "id": "vBgOu-V6n_mx",
      "execution_count": null,
      "outputs": []
    },
    {
      "cell_type": "markdown",
      "id": "66e8ac64-58f9-45e5-a917-e44c8fef425d",
      "metadata": {
        "tags": [],
        "id": "66e8ac64-58f9-45e5-a917-e44c8fef425d"
      },
      "source": [
        "<details>\n",
        "    <summary><i>Answer:</i></summary>\n",
        "\n",
        "Features are:\n",
        "\n",
        "- `node_id` ⇨ internal and unique id of each user\n",
        "\n",
        "- `email` ⇨ the email used to register (other refers to emails other than the main ones)\n",
        "\n",
        "- `has_picture_cover` ⇨ has the user added a picture to their profile?\n",
        "\n",
        "- `has_linkedin` ⇨ has the user added their LinkedIn handle?\n",
        "\n",
        "- `has_personal_url` ⇨ has the user added a link to their personal url?\n",
        "\n",
        "- `has_instagram` ⇨ has the user added their Instagram handle?\n",
        "\n",
        "- `tags` ⇨ the set of tags in the profile, separated by `;`\n",
        "\n",
        "- `goals` ⇨ the set of goals chosen by the user, separated by `;`\n",
        "\n",
        "- `nb_chars_in_bio` ⇨ the number of characters in the profile's bio\n",
        "\n",
        "\n",
        "`is_unwanted` is the target.\n",
        "\n",
        "</details>        \n",
        "\n",
        "\n"
      ]
    },
    {
      "cell_type": "markdown",
      "id": "5ba075ad-84d0-4951-bb93-51712aa11033",
      "metadata": {
        "id": "5ba075ad-84d0-4951-bb93-51712aa11033"
      },
      "source": [
        "b) Data need to be cleaned.\n",
        "\n",
        "- Replace NaN values in `nb_chars_in_bio` column by 0.\n",
        "- Replace NaN values in `tags` and `goals` column by \"\".\n",
        "\n",
        "Verify."
      ]
    },
    {
      "cell_type": "markdown",
      "source": [
        "<details>\n",
        "    <summary><i>Hint:</i></summary>\n",
        "\n",
        "Use `.loc[]` and function `.isnull()`. \n",
        "\n",
        "</details>  "
      ],
      "metadata": {
        "id": "Bz7O-8eaox5_"
      },
      "id": "Bz7O-8eaox5_"
    },
    {
      "cell_type": "code",
      "source": [
        "df.loc[df['tags'].isnull(),'tags']"
      ],
      "metadata": {
        "id": "aNTPVCfsOR9Z"
      },
      "id": "aNTPVCfsOR9Z",
      "execution_count": null,
      "outputs": []
    },
    {
      "cell_type": "code",
      "execution_count": null,
      "id": "dad774e8-d914-4b86-a6b2-f9f9ecfc0e70",
      "metadata": {
        "id": "dad774e8-d914-4b86-a6b2-f9f9ecfc0e70"
      },
      "outputs": [],
      "source": [
        "df.loc[df['tags'].isnull(), 'tags'] = ''\n",
        "df.loc[df['goals'].isnull(), 'goals'] = ''\n",
        "df.loc[df['nb_chars_in_bio'].isnull(), 'nb_chars_in_bio'] = 0"
      ]
    },
    {
      "cell_type": "code",
      "source": [
        "df.info()"
      ],
      "metadata": {
        "id": "SvpDlvlxpGq2"
      },
      "id": "SvpDlvlxpGq2",
      "execution_count": null,
      "outputs": []
    },
    {
      "cell_type": "markdown",
      "id": "a6f53824-f614-44a2-aec1-1233c1ac9c44",
      "metadata": {
        "id": "a6f53824-f614-44a2-aec1-1233c1ac9c44"
      },
      "source": [
        "c) How many profiles are non wanted? Is the dataset well balanced (as much as profiles in both classes) ?"
      ]
    },
    {
      "cell_type": "code",
      "source": [
        "df[\"is_unwanted\"].sum()"
      ],
      "metadata": {
        "id": "JEPMeeCCpZak"
      },
      "id": "JEPMeeCCpZak",
      "execution_count": null,
      "outputs": []
    },
    {
      "cell_type": "markdown",
      "source": [
        "1000 out of 10000 are unwanted in the dataset. It's 10% versus 90%, the dataset is unbalanced."
      ],
      "metadata": {
        "id": "wUmB6oNKposj"
      },
      "id": "wUmB6oNKposj"
    },
    {
      "cell_type": "markdown",
      "id": "04202e9b-f45e-4946-8879-07bf6cb3cfaf",
      "metadata": {
        "id": "04202e9b-f45e-4946-8879-07bf6cb3cfaf"
      },
      "source": [
        "d) Do you think that column `node_id` is relevant for our needs? "
      ]
    },
    {
      "cell_type": "markdown",
      "source": [
        "<details>\n",
        "    <summary><i>Hint:</i></summary>\n",
        "\n",
        "node_id is a unique id for each Shapr user.\n",
        "We can delete it.\n",
        "\n",
        "</details>  "
      ],
      "metadata": {
        "id": "SCItSDons2h1"
      },
      "id": "SCItSDons2h1"
    },
    {
      "cell_type": "markdown",
      "id": "21cba1b7-aa9f-4880-a7f8-2a777fade70d",
      "metadata": {
        "id": "21cba1b7-aa9f-4880-a7f8-2a777fade70d"
      },
      "source": [
        "## Features engineering\n",
        "\n"
      ]
    },
    {
      "cell_type": "markdown",
      "source": [
        "\n",
        "a) How many email providers are there? \n",
        "\n",
        "Represent their distribution in the form of a histogram.\n",
        "\n",
        "<details>\n",
        "<summary><i>Hint</i></summary>\n",
        "    ⟿  Plotly Express dispose de la fonction \"histogram\" qui permet de faire ce graph de distribution : https://plotly.com/python/histograms/\n",
        "\n",
        "use color parameter to distinguish between providers\n",
        "</details>"
      ],
      "metadata": {
        "id": "xiNSrOXutTJ6"
      },
      "id": "xiNSrOXutTJ6"
    },
    {
      "cell_type": "code",
      "execution_count": null,
      "id": "001bcee1-3b54-41cc-b5b9-d18e6dc7bfa1",
      "metadata": {
        "id": "001bcee1-3b54-41cc-b5b9-d18e6dc7bfa1"
      },
      "outputs": [],
      "source": [
        "import plotly.express as px\n",
        "\n",
        "fig = px.histogram(df['email'], color=df['email'], orientation='h')\n",
        "fig.show()"
      ]
    },
    {
      "cell_type": "markdown",
      "id": "6f43c744-4718-4a19-9990-ff7cffa540e8",
      "metadata": {
        "id": "6f43c744-4718-4a19-9990-ff7cffa540e8"
      },
      "source": [
        "b) We now want to study the link between the \n",
        "email provider and the probability of being labeled as `unwanted`. \n",
        "\n",
        "Plot this probability in a chart.\n",
        "\n",
        "\n",
        "<details>\n",
        "<summary><i>Hint</i></summary>\n",
        "    ⟿  use `groupby` and `mean` function to calculate probability of being `is_unwanted` by email provider.\n",
        "    \n",
        "    <br/>\n",
        "    \n",
        "    ⟿  we can use a `bar` chart of Plotly Express : https://plotly.com/python/bar-charts/\n",
        "</details>"
      ]
    },
    {
      "cell_type": "code",
      "execution_count": null,
      "id": "0a834c12-9355-4c14-a0bb-b09a95733b81",
      "metadata": {
        "id": "0a834c12-9355-4c14-a0bb-b09a95733b81"
      },
      "outputs": [],
      "source": [
        "proba = df.groupby(\"email\")['is_unwanted'].mean() * 100\n",
        "proba"
      ]
    },
    {
      "cell_type": "code",
      "execution_count": null,
      "id": "6e0f61b1-25db-4700-a630-2248e40fe518",
      "metadata": {
        "id": "6e0f61b1-25db-4700-a630-2248e40fe518"
      },
      "outputs": [],
      "source": [
        "fig = px.bar(proba, color=proba.index, orientation='h')\n",
        "fig.show()"
      ]
    },
    {
      "cell_type": "markdown",
      "id": "c055fdf4-364f-4d39-891c-2c911af73185",
      "metadata": {
        "id": "c055fdf4-364f-4d39-891c-2c911af73185"
      },
      "source": [
        "c) Which email provider is linked to a higher probability of being a junk account? \n",
        "\n",
        "What about the lowest probability? \n",
        "\n",
        "Do you think the email provider is a good predictor?\n",
        "\n",
        "Which statistical test could we do ?"
      ]
    },
    {
      "cell_type": "markdown",
      "id": "54d39e42-b933-48bb-b4ab-fd71892f5d41",
      "metadata": {
        "id": "54d39e42-b933-48bb-b4ab-fd71892f5d41"
      },
      "source": [
        "<details>\n",
        "<summary><i>Response</i></summary>\n",
        "\n",
        "- icloud is the provider linked to the highest rate of unwanted accounts.\n",
        "\n",
        "- On the other hand, it is the other operators, \"Other\", that are the least associated with undesirable accounts, could be professional emails.\n",
        "\n",
        "- Overall, the explanatory variable \"email\" seems to have a low discriminatory power.\n",
        "\n",
        "- An Anova test could tell us whether or not there are significant differences between email providers.\n",
        "\n",
        "</details>"
      ]
    },
    {
      "cell_type": "markdown",
      "source": [
        "d) We want to study if having a `picture cover` decreases probability of being undesirable. \n",
        "\n",
        "Use code below and perform a statistical test. What do you conclude ?\n",
        "\n",
        "At the end of the exercise, if you still have time you can perfom same test on other boolean feature as well."
      ],
      "metadata": {
        "id": "ppG6VqNUyqeY"
      },
      "id": "ppG6VqNUyqeY"
    },
    {
      "cell_type": "markdown",
      "source": [
        "<details>\n",
        "<summary><i>Hint</i></summary>\n",
        "\n",
        "- Use chi2 test on contingency table given below.\n",
        "\n",
        "</details>"
      ],
      "metadata": {
        "id": "BMr8_M68y6ry"
      },
      "id": "BMr8_M68y6ry"
    },
    {
      "cell_type": "code",
      "source": [
        "# calculate contingency table\n",
        "CT = pd.crosstab(index=df['has_picture_cover'], columns=df['is_unwanted'])\n",
        "CT"
      ],
      "metadata": {
        "id": "fKDVWwWTwrnb"
      },
      "id": "fKDVWwWTwrnb",
      "execution_count": null,
      "outputs": []
    },
    {
      "cell_type": "code",
      "source": [
        "import scipy.stats as stats\n",
        "\n",
        "# Perform Chi-squared test\n",
        "chiRes = stats.chi2_contingency(CT)\n",
        "# Details\n",
        "print(f'p-value: {chiRes[1]}')"
      ],
      "metadata": {
        "id": "eth_HsuwzjmG"
      },
      "id": "eth_HsuwzjmG",
      "execution_count": null,
      "outputs": []
    },
    {
      "cell_type": "markdown",
      "source": [
        "p-value is near 0, it means whatever level of risk, we reject null hypothesis. There is a significant difference between having or not a picture cover."
      ],
      "metadata": {
        "id": "uNNEta2qzpC1"
      },
      "id": "uNNEta2qzpC1"
    },
    {
      "cell_type": "markdown",
      "id": "1bf27da6-d437-4969-8096-483cd7e45ec7",
      "metadata": {
        "id": "1bf27da6-d437-4969-8096-483cd7e45ec7"
      },
      "source": [
        "e) We want to study the link between `nb_chars_in_bio` and being unwanted or not.\n",
        "\n",
        "What chart can you suggest?\n",
        "\n"
      ]
    },
    {
      "cell_type": "markdown",
      "source": [
        "f) Display a boxplot of `nb_chars_in_bio` per `is_unwanted`.\n",
        "\n",
        "What can you say?\n",
        "\n",
        "\n",
        "<details>\n",
        "<summary><i>Hint</i></summary>\n",
        "    ⟿  L'affichage peut utiliser la fonction \"box\" de Plotly Express : https://plotly.com/python/bar-plots/\n",
        "</details>"
      ],
      "metadata": {
        "id": "bzolQ5cQ0vhP"
      },
      "id": "bzolQ5cQ0vhP"
    },
    {
      "cell_type": "code",
      "execution_count": null,
      "id": "1539e71d-2982-4a2f-95fe-7051becab7bc",
      "metadata": {
        "id": "1539e71d-2982-4a2f-95fe-7051becab7bc"
      },
      "outputs": [],
      "source": [
        "fig = px.box(df, x=\"nb_chars_in_bio\", color='is_unwanted')\n",
        "fig.show()"
      ]
    },
    {
      "cell_type": "markdown",
      "id": "d59a3bad-04ef-4d80-b8d9-02d1d4528301",
      "metadata": {
        "id": "d59a3bad-04ef-4d80-b8d9-02d1d4528301"
      },
      "source": [
        "<details>\n",
        "<summary><i>Answer</i></summary>\n",
        "\n",
        "We observe that most trolls filled their bio with less than 50 letters. In other words, the majority of trolls put at most a short sentence as their bio.\n",
        "\n",
        "Legitimate users, on the other hand, put in two to three times as much content.\n",
        "\n",
        "It appears that this variable has a good discriminatory power.\n",
        "</details>"
      ]
    },
    {
      "cell_type": "markdown",
      "source": [
        "g) We want to calculate `nb_tags` and `nb_goals` which correspond to number of tags and number of goals.\n",
        "\n",
        "Create this two new columns.\n",
        "\n",
        "\n",
        "<details>\n",
        "<summary><i>Hint 1</i></summary>\n",
        "function `count()` count number of times a character is found in a string\n",
        "</details>\n",
        "<br>\n",
        "\n",
        "<details>\n",
        "<summary><i>Hint 2</i></summary>\n",
        "To apply a string function to a Serie, you need to use attribute `.str`, for example `df[\"tags\"].str`\n",
        "</details>\n",
        "<br>\n",
        "\n",
        "<details>\n",
        "<summary><i>Answer</i></summary>\n",
        "df[\"nb_tags\"] = df[\"tags\"].str.count(';')\n",
        "</details>"
      ],
      "metadata": {
        "id": "8eGLWrcY115Z"
      },
      "id": "8eGLWrcY115Z"
    },
    {
      "cell_type": "code",
      "source": [
        "df[\"nb_tags\"] = df[\"tags\"].str.count(';')\n",
        "df[\"nb_goals\"] = df[\"goals\"].str.count(';')"
      ],
      "metadata": {
        "id": "CMLgbmq32Npv"
      },
      "id": "CMLgbmq32Npv",
      "execution_count": null,
      "outputs": []
    },
    {
      "cell_type": "markdown",
      "id": "3926fdf9-39b8-4613-a7d0-52b21745cdf7",
      "metadata": {
        "id": "3926fdf9-39b8-4613-a7d0-52b21745cdf7"
      },
      "source": [
        "# Modeling"
      ]
    },
    {
      "cell_type": "markdown",
      "id": "8e5422f4-5cf9-433c-93e8-23037fddd9da",
      "metadata": {
        "id": "8e5422f4-5cf9-433c-93e8-23037fddd9da"
      },
      "source": [
        "a) From `df` create a DataFrame `dataset` with `has_picture_cover`, `has_linkedin`, `has_twitter`, `has_personal_url`, `has_instagram`, `nb_chars_in_bio`, `nb_tags`, `nb_goals`,`is_unwanted`, `is_unwanted` columns. "
      ]
    },
    {
      "cell_type": "code",
      "execution_count": null,
      "id": "f011bf23-4002-44ac-8253-81d3dfbd22fa",
      "metadata": {
        "id": "f011bf23-4002-44ac-8253-81d3dfbd22fa"
      },
      "outputs": [],
      "source": [
        "dataset = df[[\"has_picture_cover\", \"has_linkedin\", \"has_twitter\", \"has_personal_url\", \"has_instagram\", \"nb_chars_in_bio\", \"nb_tags\", \"nb_goals\",\n",
        "               \"is_unwanted\"]]\n",
        "dataset"
      ]
    },
    {
      "cell_type": "markdown",
      "id": "b761062a-42fd-4b07-b2ea-260143bfd974",
      "metadata": {
        "id": "b761062a-42fd-4b07-b2ea-260143bfd974"
      },
      "source": [
        "b) As we have seen before, the dataset contains 9 times more normal users (`is_unwanted` worth 0) than trolls (`is_unwanted` worth 1).\n",
        "\n",
        "Learning a model with this bias is not desirable, because whatever the user to be classified, answering \"no-troll\" would be enough to be right in 90% of cases!\n",
        "\n",
        "To avoid this, we need to apply an \"under-sampling\" technique. This consists of randomly retaining a subsample of normal users.\n",
        "\n",
        "Look carefully code below and execute it.\n",
        "\n"
      ]
    },
    {
      "cell_type": "code",
      "execution_count": null,
      "id": "40d4472a-d107-46a8-be14-742f727b103d",
      "metadata": {
        "id": "40d4472a-d107-46a8-be14-742f727b103d"
      },
      "outputs": [],
      "source": [
        "# concatenate is_unwanted users and 1000 randomly selected wanted users\n",
        "dataset = pd.concat([dataset[dataset['is_unwanted']==0].sample(1000),\n",
        "                     dataset[dataset['is_unwanted']==1]])\n",
        "dataset['is_unwanted'].value_counts()"
      ]
    },
    {
      "cell_type": "markdown",
      "id": "9c87c46c-d0d0-49a2-890a-e03416b569ed",
      "metadata": {
        "id": "9c87c46c-d0d0-49a2-890a-e03416b569ed"
      },
      "source": [
        "c) Perform the 80% / 20% split of your dataset with the code below.\n",
        "\n",
        "What does the `stratify` parameter mean? Why is it useful here?\n",
        "\n",
        "Note that we didn't split between X, y and train / test. It's because we will use Pycaret for modeling part."
      ]
    },
    {
      "cell_type": "code",
      "execution_count": null,
      "id": "1719291f-037c-400f-8d23-457b908c6006",
      "metadata": {
        "id": "1719291f-037c-400f-8d23-457b908c6006"
      },
      "outputs": [],
      "source": [
        "from sklearn.model_selection import train_test_split\n",
        "\n",
        "dataset_train, dataset_unseen = train_test_split(dataset,\n",
        "                                                 test_size=0.2,\n",
        "                                                 stratify=dataset['is_unwanted'])"
      ]
    },
    {
      "cell_type": "markdown",
      "id": "d80f637d-13b3-4a8d-8d24-30bbfd26072e",
      "metadata": {
        "id": "d80f637d-13b3-4a8d-8d24-30bbfd26072e"
      },
      "source": [
        "<details>\n",
        "<summary><i>Answer:</i></summary>\n",
        "The `stratify = dataset['is_unwanted']` parameter is important here because it ensures that the proportion of unwanted individuals remains the same after trimming between the train and the test. This is important because unlucky random slicing could result in a training dataset with no examples of any of the classes, making learning impossible\n",
        "</details>\n",
        "<br>\n",
        "\n"
      ]
    },
    {
      "cell_type": "markdown",
      "id": "ce1cc8a3-1896-42d3-8539-7e502a8960aa",
      "metadata": {
        "id": "ce1cc8a3-1896-42d3-8539-7e502a8960aa"
      },
      "source": [
        "d) Now it's time to use <b>PyCaret</b>!\n",
        "\n",
        "Complete the following code, justifying your choice for the value of `normalize`."
      ]
    },
    {
      "cell_type": "code",
      "execution_count": null,
      "id": "aedd398e-373e-41a7-98b0-4330bd858371",
      "metadata": {
        "id": "aedd398e-373e-41a7-98b0-4330bd858371"
      },
      "outputs": [],
      "source": [
        "from pycaret.classification import setup\n",
        "\n",
        "xp = setup(data = dataset_train,\n",
        "           test_data = dataset_unseen,\n",
        "           target = \"is_unwanted\",\n",
        "           normalize = True , \n",
        "           session_id = 42,\n",
        "           silent = True)"
      ]
    },
    {
      "cell_type": "markdown",
      "id": "6df23a4c-6a91-45b3-8ecc-1cb3e1c8b5e7",
      "metadata": {
        "id": "6df23a4c-6a91-45b3-8ecc-1cb3e1c8b5e7"
      },
      "source": [
        "b) Screen the PyCaret models and compare their performance by executing cell below.\n",
        "\n",
        "Which model has the best accuracy?"
      ]
    },
    {
      "cell_type": "code",
      "execution_count": null,
      "id": "88fa5e28-aab2-4c78-a408-f0fbf9c9a205",
      "metadata": {
        "id": "88fa5e28-aab2-4c78-a408-f0fbf9c9a205"
      },
      "outputs": [],
      "source": [
        "from pycaret.classification import compare_models\n",
        "\n",
        "best_model = compare_models()"
      ]
    },
    {
      "cell_type": "markdown",
      "id": "171fe029-c1ac-4ff4-abc3-f79871520f5a",
      "metadata": {
        "id": "171fe029-c1ac-4ff4-abc3-f79871520f5a"
      },
      "source": [
        "<details>\n",
        "<summary><i>Answer:</i></summary>\n",
        "\n",
        "The best model here is `logistic regression`. Based on the k-fold validation, we estimate that it has 72% accuracy in its predictions.\n",
        "\n",
        "It also offers balanced recall and precision rates: 72% for these two metrics.\n",
        "\n",
        "Looking at the performances of the other classifiers, we note in passing :\n",
        "\n",
        "- several classifiers offer relatively similar performances at the top of the ranking, which seems to indicate a global convergence towards an optimum.\n",
        "\n",
        "- we observe globally the Precision/Recall trade-off in the classifiers' scores: the increase of one corresponds to the decrease of the other. Indeed, each classifier has its own way of setting the threshold of acceptability of a prediction as \"True\". Varying this threshold is like trading False Positives for False Negatives.\n",
        "</details>\n",
        "<br>\n",
        "\n"
      ]
    },
    {
      "cell_type": "markdown",
      "id": "9c05e39b-9b59-4c21-9823-c91c5cc708fa",
      "metadata": {
        "id": "9c05e39b-9b59-4c21-9823-c91c5cc708fa"
      },
      "source": [
        "c) Display matrix confusion using plot_model function.\n",
        "\n",
        "Find correct syntax on your lecture."
      ]
    },
    {
      "cell_type": "code",
      "execution_count": null,
      "id": "3fbb7f95-0200-414b-bcb6-eaf5d8fc4aa5",
      "metadata": {
        "id": "3fbb7f95-0200-414b-bcb6-eaf5d8fc4aa5"
      },
      "outputs": [],
      "source": [
        "from pycaret.classification import plot_model\n",
        "\n",
        "plot_model(best_model, plot='confusion_matrix')"
      ]
    },
    {
      "cell_type": "markdown",
      "id": "bfa845c9-75da-4ec6-a313-84c6da5a7908",
      "metadata": {
        "id": "bfa845c9-75da-4ec6-a313-84c6da5a7908"
      },
      "source": [
        "d) To improve performance, it is possible to vary the hyper-parameters of the model.\n",
        "\n",
        "This can be done with a simple call to the `tune_model` function, [described here](https://pycaret.org/tune-model/).\n",
        "\n",
        "Execute cell below. Is it better?"
      ]
    },
    {
      "cell_type": "code",
      "execution_count": null,
      "id": "8f971de4-f87d-4da3-a4fb-2061d28c6bb5",
      "metadata": {
        "id": "8f971de4-f87d-4da3-a4fb-2061d28c6bb5"
      },
      "outputs": [],
      "source": [
        "from pycaret.classification import tune_model\n",
        "\n",
        "best_model_tuned = tune_model(best_model)"
      ]
    },
    {
      "cell_type": "markdown",
      "source": [
        "<details>\n",
        "<summary><i>Answer:</i></summary>\n",
        "\n",
        "Each fold is a specific split on data. \n",
        "\n",
        "If we look at Mean row, performance is not really better.\n",
        "Tuning hyper parameters here was not necessary.\n",
        "</details>\n",
        "<br>\n",
        "\n",
        "\n"
      ],
      "metadata": {
        "id": "UPpAkAIpEc10"
      },
      "id": "UPpAkAIpEc10"
    },
    {
      "cell_type": "markdown",
      "id": "257181fc-2b25-429a-9a2a-bbebf6c3fe81",
      "metadata": {
        "id": "257181fc-2b25-429a-9a2a-bbebf6c3fe81"
      },
      "source": [
        "e) We propose to provide an a posteriori explanation of the classifier operation.\n",
        "\n",
        "To obtain the features importance graph , call the function plot_model with the model of your choice and add the argument plot=\"feature\".\n",
        "\n",
        "How do you interpret these values?"
      ]
    },
    {
      "cell_type": "code",
      "execution_count": null,
      "id": "e1413e6a-f7a5-44ed-b7f1-bae7778e2690",
      "metadata": {
        "id": "e1413e6a-f7a5-44ed-b7f1-bae7778e2690"
      },
      "outputs": [],
      "source": [
        "plot_model(best_model,'feature')"
      ]
    },
    {
      "cell_type": "markdown",
      "id": "d99083f1-74ab-4a3c-b9ff-2d173ec3a390",
      "metadata": {
        "id": "d99083f1-74ab-4a3c-b9ff-2d173ec3a390"
      },
      "source": [
        "<details>\n",
        "<summary><i>Answer:</i></summary>\n",
        "\n",
        "- The `nb_tags_0` variable is the most important one for detecting a troll. This is not surprising, as this one of the most \"expensive\" to fill in.\n",
        "\n",
        "- As far as online presence is concerned, the presence of a personal website (`has_personal_url_1`) or a professional page (`has_linkedin_1`) are more discriminating than the membership to a non-professional social network (`has_twitter_1` and `has_instagram_1`).\n",
        "\n",
        "- providing a profile picture (`has_picture_cover_0`) or tags/goals (`has_tag_1`/`has_goal_1`) when registering is also useful, just like providing a personal or professional page.\n",
        "\n",
        "</details>\n",
        "<br>"
      ]
    }
  ],
  "metadata": {
    "kernelspec": {
      "display_name": "Python 3",
      "language": "python",
      "name": "python3"
    },
    "language_info": {
      "codemirror_mode": {
        "name": "ipython",
        "version": 3
      },
      "file_extension": ".py",
      "mimetype": "text/x-python",
      "name": "python",
      "nbconvert_exporter": "python",
      "pygments_lexer": "ipython3",
      "version": "3.9.5"
    },
    "colab": {
      "provenance": [],
      "collapsed_sections": [
        "21cba1b7-aa9f-4880-a7f8-2a777fade70d"
      ],
      "include_colab_link": true
    }
  },
  "nbformat": 4,
  "nbformat_minor": 5
}